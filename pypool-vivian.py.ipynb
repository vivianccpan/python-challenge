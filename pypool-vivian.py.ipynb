{
 "cells": [
  {
   "cell_type": "code",
   "execution_count": 1,
   "metadata": {},
   "outputs": [
    {
     "data": {
      "text/html": [
       "<div>\n",
       "<style scoped>\n",
       "    .dataframe tbody tr th:only-of-type {\n",
       "        vertical-align: middle;\n",
       "    }\n",
       "\n",
       "    .dataframe tbody tr th {\n",
       "        vertical-align: top;\n",
       "    }\n",
       "\n",
       "    .dataframe thead th {\n",
       "        text-align: right;\n",
       "    }\n",
       "</style>\n",
       "<table border=\"1\" class=\"dataframe\">\n",
       "  <thead>\n",
       "    <tr style=\"text-align: right;\">\n",
       "      <th></th>\n",
       "      <th>Voter ID</th>\n",
       "      <th>County</th>\n",
       "      <th>Candidate</th>\n",
       "    </tr>\n",
       "  </thead>\n",
       "  <tbody>\n",
       "    <tr>\n",
       "      <th>0</th>\n",
       "      <td>12864552</td>\n",
       "      <td>Marsh</td>\n",
       "      <td>Khan</td>\n",
       "    </tr>\n",
       "    <tr>\n",
       "      <th>1</th>\n",
       "      <td>17444633</td>\n",
       "      <td>Marsh</td>\n",
       "      <td>Correy</td>\n",
       "    </tr>\n",
       "    <tr>\n",
       "      <th>2</th>\n",
       "      <td>19330107</td>\n",
       "      <td>Marsh</td>\n",
       "      <td>Khan</td>\n",
       "    </tr>\n",
       "    <tr>\n",
       "      <th>3</th>\n",
       "      <td>19865775</td>\n",
       "      <td>Queen</td>\n",
       "      <td>Khan</td>\n",
       "    </tr>\n",
       "    <tr>\n",
       "      <th>4</th>\n",
       "      <td>11927875</td>\n",
       "      <td>Marsh</td>\n",
       "      <td>Khan</td>\n",
       "    </tr>\n",
       "  </tbody>\n",
       "</table>\n",
       "</div>"
      ],
      "text/plain": [
       "   Voter ID County Candidate\n",
       "0  12864552  Marsh      Khan\n",
       "1  17444633  Marsh    Correy\n",
       "2  19330107  Marsh      Khan\n",
       "3  19865775  Queen      Khan\n",
       "4  11927875  Marsh      Khan"
      ]
     },
     "execution_count": 1,
     "metadata": {},
     "output_type": "execute_result"
    }
   ],
   "source": [
    "%pwd\n",
    "import pandas as pd\n",
    "file_path = 'PyPoll/Resources/election_data.csv'\n",
    "election_data = pd.read_csv(file_path)\n",
    "df = election_data .copy()\n",
    "df.head()"
   ]
  },
  {
   "cell_type": "code",
   "execution_count": 17,
   "metadata": {},
   "outputs": [
    {
     "name": "stdout",
     "output_type": "stream",
     "text": [
      "Election Results \n",
      "------------------------- \n",
      "Total Votes: 3521001\n",
      " -------------------------\n",
      "Khan: 63.000%( 2218231)\n",
      "Correy: 20.000%( 704200)\n",
      "Li: 14.000%( 492940)\n",
      "O'Tooley: 3.000%( 105630)\n",
      " -------------------------\n",
      " Winner: Khan\n",
      " -------------------------\n"
     ]
    }
   ],
   "source": [
    "# * The total number of votes cast\n",
    "totalVotes = len(df)   \n",
    "\n",
    "#   * A complete list of candidates who received votes\n",
    "candidates = df['Candidate'].unique().tolist() #list\n",
    "# candidates = df['Candidate'].unique()  #class 'numpy.ndarray'\n",
    "\n",
    "\n",
    "output =(\n",
    "    \"Election Results \\n\"\n",
    "    \"------------------------- \\n\"\n",
    "    f'Total Votes: {totalVotes}\\n'\n",
    "\n",
    "     \" -------------------------\"    \n",
    " \n",
    "    \n",
    ")   \n",
    "print(output)    \n",
    "\n",
    "    \n",
    "#   * The percentage of votes each candidate won\n",
    "votes=df['Candidate'].value_counts() # votes count\n",
    "s= df['Candidate'].value_counts(normalize=True).map(lambda n: '{:,.3%}'.format(n)) # series\n",
    "# df['Candidate'].value_counts(normalize=True).to_frame().applymap(lambda x: \"{0:.3f}%\".format(x*100)) #df\n",
    "# https://stackoverflow.com/questions/19798153/difference-between-map-applymap-and-apply-methods-in-pandas\n",
    "    \n",
    "new_df = pd.concat([s,votes],axis = 1)\n",
    "new_df.columns=['%','votes'] \n",
    "new_df.to_csv('Vote-Counting.csv')\n",
    "import os\n",
    "import csv\n",
    "with open('Vote-Counting.csv')as textfile:\n",
    "    next(textfile)\n",
    "    textdata = csv.reader(textfile)\n",
    "    for row in textdata:\n",
    "        print(f'{row[0]}: {row[1]}( {row[2]})')       \n",
    "    \n",
    "#   * The winner of the election based on popular vote.\n",
    "winner = df['Candidate'].value_counts().idxmax()\n",
    "# * As an example, your analysis should look similar to the one below: \n",
    "output2 =(\n",
    "     \n",
    "    \" -------------------------\\n\"\n",
    "     f' Winner: {winner}\\n'\n",
    "     \" -------------------------\"\n",
    "   \n",
    ")   \n",
    "print(output2) "
   ]
  }
 ],
 "metadata": {
  "kernelspec": {
   "display_name": "Python 3",
   "language": "python",
   "name": "python3"
  },
  "language_info": {
   "codemirror_mode": {
    "name": "ipython",
    "version": 3
   },
   "file_extension": ".py",
   "mimetype": "text/x-python",
   "name": "python",
   "nbconvert_exporter": "python",
   "pygments_lexer": "ipython3",
   "version": "3.6.5"
  }
 },
 "nbformat": 4,
 "nbformat_minor": 2
}
