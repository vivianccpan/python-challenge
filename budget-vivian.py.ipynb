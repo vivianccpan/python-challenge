{
 "cells": [
  {
   "cell_type": "code",
   "execution_count": 2,
   "metadata": {},
   "outputs": [
    {
     "name": "stdout",
     "output_type": "stream",
     "text": [
      "The total number of months included in the dataset : 86\n",
      "The total net amount of 'Profit/Losses' over the entire period :$ 38382578\n",
      "The average change in \"Profit/Losses\" between months over the entire period :$ -2315.12\n",
      "The greatest increase in profits (date and amount) over the entire period : Feb-2012 ( $  1926159 )\n",
      "The greatest decrease in losses (date and amount) over the entire period : Sep-2013 ( $  -2196167 )\n"
     ]
    }
   ],
   "source": [
    "# Financial Analysis\n",
    "%pwd\n",
    "import pandas as pd\n",
    "file_path = 'PyBank/Resources/budget_data.csv' \n",
    "budget_data= pd.read_csv(file_path)\n",
    "df = budget_data \n",
    "\n",
    "# * The total number of months included in the dataset\n",
    "totalMonths,col = budget_data.shape\n",
    "print('The total number of months included in the dataset :',totalMonths)\n",
    "\n",
    "#   * The total net amount of \"Profit/Losses\" over the entire period\n",
    "netAmount = budget_data['Profit/Losses'].sum()\n",
    "print(\"The total net amount of 'Profit/Losses' over the entire period :$\", netAmount )\n",
    "\n",
    "#   * The average change in \"Profit/Losses\" between months over the entire period\n",
    "average = (df['Profit/Losses'].diff().sum())/(totalMonths-1)\n",
    "# df['shifted_column'] = df['Profit/Losses'].shift(1)\n",
    "# df['difference'] = df['Profit/Losses'] - df['shifted_column'] \n",
    "# average = df['difference'] .average()\n",
    "print('The average change in \"Profit/Losses\" between months over the entire period :$','{0:.2f}'.format(average))\n",
    "\n",
    "\n",
    "\n",
    "# #   * The greatest increase in profits (date and amount) over the entire period\n",
    "df.set_index('Date',inplace = True)\n",
    "maximum = df['Profit/Losses'].diff().max()\n",
    "maximumDate = df['Profit/Losses'].diff().idxmax() \n",
    "\n",
    "print ('The greatest increase in profits (date and amount) over the entire period :',maximumDate,\"( $ \",int(maximum),\")\")\n",
    "\n",
    "# #   * The greatest decrease in losses (date and amount) over the entire period\n",
    "minimum = df['Profit/Losses'].diff().min()\n",
    "minimumDate = df['Profit/Losses'].diff().idxmin() \n",
    "print('The greatest decrease in losses (date and amount) over the entire period :',minimumDate,\"( $ \",int(minimum),\")\" )\n",
    " \n"
   ]
  },
  {
   "cell_type": "code",
   "execution_count": null,
   "metadata": {},
   "outputs": [],
   "source": [
    "# Financial Analysis\n",
    "#   ----------------------------\n",
    "#   Total Months: 86\n",
    "#   Total: $38382578\n",
    "#   Average  Change: $-2315.12\n",
    "#   Greatest Increase in Profits: Feb-2012 ($1926159)\n",
    "#   Greatest Decrease in Profits: Sep-2013 ($-2196167)"
   ]
  },
  {
   "cell_type": "code",
   "execution_count": 20,
   "metadata": {},
   "outputs": [
    {
     "name": "stdout",
     "output_type": "stream",
     "text": [
      "<_csv.reader object at 0x000002133521DD48>\n",
      "CSV Header: ['Date', 'Profit/Losses']\n",
      "Jan-2010 867884\n",
      "-2315.1176470588234\n",
      "Financial Analysis\n",
      "----------------------------\n",
      "Total Months:85\n",
      "Total: $38382578\n",
      "Average  Change:$-2315.12\n",
      "Greatest Increase in Profits:Feb-2012 ($1926159)\n",
      "Greatest Decrease in Profits:Sep-2013($-2196167)\n"
     ]
    }
   ],
   "source": [
    "\n",
    "import os #use os package to normalize and get the absolute path of the file.\n",
    "import csv\n",
    "# csvpath_pybank=os.path.join('PyBank/Resources/budget_data.csv')\n",
    "csvpath_pybank = file_path\n",
    "total_month_count=0\n",
    "total_net=0\n",
    "month_of_change = []\n",
    "net_change_list = []\n",
    "greatest_increase = [\"\", 0] #smart to set a list\n",
    "greatest_decrease = [\"\", 9999999999999999999]\n",
    "total_net = 0\n",
    "\n",
    "with open(csvpath_pybank) as filehandler:\n",
    "    reader=csv.reader(filehandler,delimiter=',')\n",
    "    print(reader)\n",
    "    # Read the header row first (skip this step if there is now header)\n",
    "    csv_header = next(reader)\n",
    "    print(f\"CSV Header: {csv_header}\")  #for statement should be inside with block\n",
    "    #for row in reader:\n",
    "        #print(row)\n",
    "\n",
    "# Extract first row to avoid appending to net_change_list ,or else the record will be cutoff\n",
    "    first_row = next(reader)\n",
    "    total_months = 1 #total_months + 1 #must calculate here\n",
    "    total_net = int(first_row[1]) #unsupported operand types\n",
    "    prev_net = int(first_row[1])\n",
    "    print(first_row[0],first_row[1])\n",
    "\n",
    "    for row in reader:     \n",
    "        #track month and net\n",
    "       total_month_count += 1   \n",
    "       #print(total_month_count)   \n",
    "       total_net += int(row[1])      \n",
    "       #print(total_net) \n",
    "\n",
    "   # Track the net change\n",
    "       net_change=int(row[1])-prev_net  \n",
    "       prev_net=int(row[1])\n",
    "       net_change_list=net_change_list+[net_change]\n",
    "       month_of_change=month_of_change+[int(row[1])]\n",
    "\n",
    "       #print( net_change_list,month_of_change)\n",
    "\n",
    "       # Calculate the greatest increase\n",
    "       if net_change>greatest_increase[1]:\n",
    "          greatest_increase[0]=row[0]\n",
    "          greatest_increase[1]=net_change\n",
    "       \n",
    "       if net_change < greatest_decrease [1]:\n",
    "          greatest_decrease [0] = row[0]\n",
    "          greatest_decrease [1] = net_change\n",
    "# Calculate the Average Net Change\n",
    "net_monthly_avg=sum(net_change_list)/len(net_change_list)\n",
    "print(net_monthly_avg)\n",
    "\n",
    "output=(\n",
    "    \"Financial Analysis\\n\" \n",
    "    \"----------------------------\\n\" \n",
    "    f'Total Months:{total_month_count}\\n'\n",
    "    f'Total: ${total_net}\\n'\n",
    "    f'Average  Change:${net_monthly_avg:.2f}\\n'\n",
    "    f'Greatest Increase in Profits:{greatest_increase[0]} (${greatest_increase[1]})\\n'\n",
    "    f'Greatest Decrease in Profits:{greatest_decrease [0]}(${greatest_decrease [1]})')\n",
    "print(output)\n"
   ]
  }
 ],
 "metadata": {
  "kernelspec": {
   "display_name": "Python 3",
   "language": "python",
   "name": "python3"
  },
  "language_info": {
   "codemirror_mode": {
    "name": "ipython",
    "version": 3
   },
   "file_extension": ".py",
   "mimetype": "text/x-python",
   "name": "python",
   "nbconvert_exporter": "python",
   "pygments_lexer": "ipython3",
   "version": "3.6.5"
  }
 },
 "nbformat": 4,
 "nbformat_minor": 2
}
