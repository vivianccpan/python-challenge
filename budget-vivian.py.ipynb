{
 "cells": [
  {
   "cell_type": "code",
   "execution_count": 1,
   "metadata": {},
   "outputs": [
    {
     "name": "stdout",
     "output_type": "stream",
     "text": [
      "The total number of months included in the dataset : 86\n",
      "The total net amount of 'Profit/Losses' over the entire period :$ 38382578\n",
      "The average change in \"Profit/Losses\" between months over the entire period :$ -2315.12\n",
      "The greatest increase in profits (date and amount) over the entire period : Feb-2012 ( $  1926159 )\n",
      "The greatest decrease in losses (date and amount) over the entire period : Sep-2013 ( $  -2196167 )\n"
     ]
    }
   ],
   "source": [
    "# Financial Analysis\n",
    "%pwd\n",
    "import pandas as pd\n",
    "file_path = 'PyBank/Resources/budget_data.csv' \n",
    "budget_data= pd.read_csv(file_path)\n",
    "df = budget_data \n",
    "\n",
    "# * The total number of months included in the dataset\n",
    "totalMonths,col = budget_data.shape\n",
    "print('The total number of months included in the dataset :',totalMonths)\n",
    "\n",
    "#   * The total net amount of \"Profit/Losses\" over the entire period\n",
    "netAmount = budget_data['Profit/Losses'].sum()\n",
    "print(\"The total net amount of 'Profit/Losses' over the entire period :$\", netAmount )\n",
    "\n",
    "#   * The average change in \"Profit/Losses\" between months over the entire period\n",
    "average = (df['Profit/Losses'].diff().sum())/(totalMonths-1)\n",
    "# df['shifted_column'] = df['Profit/Losses'].shift(1)\n",
    "# df['difference'] = df['Profit/Losses'] - df['shifted_column'] \n",
    "# average = df['difference'] .average()\n",
    "print('The average change in \"Profit/Losses\" between months over the entire period :$','{0:.2f}'.format(average))\n",
    "\n",
    "\n",
    "\n",
    "# #   * The greatest increase in profits (date and amount) over the entire period\n",
    "df.set_index('Date',inplace = True)\n",
    "maximum = df['Profit/Losses'].diff().max()\n",
    "maximumDate = df['Profit/Losses'].diff().idxmax() \n",
    "\n",
    "print ('The greatest increase in profits (date and amount) over the entire period :',maximumDate,\"( $ \",int(maximum),\")\")\n",
    "\n",
    "# #   * The greatest decrease in losses (date and amount) over the entire period\n",
    "minimum = df['Profit/Losses'].diff().min()\n",
    "minimumDate = df['Profit/Losses'].diff().idxmin() \n",
    "print('The greatest decrease in losses (date and amount) over the entire period :',minimumDate,\"( $ \",int(minimum),\")\" )\n",
    " \n"
   ]
  }
 ],
 "metadata": {
  "kernelspec": {
   "display_name": "Python 3",
   "language": "python",
   "name": "python3"
  },
  "language_info": {
   "codemirror_mode": {
    "name": "ipython",
    "version": 3
   },
   "file_extension": ".py",
   "mimetype": "text/x-python",
   "name": "python",
   "nbconvert_exporter": "python",
   "pygments_lexer": "ipython3",
   "version": "3.6.5"
  }
 },
 "nbformat": 4,
 "nbformat_minor": 2
}
