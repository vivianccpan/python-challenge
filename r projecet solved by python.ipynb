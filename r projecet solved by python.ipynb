{
 "cells": [
  {
   "cell_type": "code",
   "execution_count": 3,
   "metadata": {},
   "outputs": [
    {
     "name": "stdout",
     "output_type": "stream",
     "text": [
      "Object `%` not found.\n",
      "Object `%` not found.\n"
     ]
    }
   ],
   "source": []
  },
  {
   "cell_type": "code",
   "execution_count": null,
   "metadata": {},
   "outputs": [],
   "source": [
    "import os\n",
    "import pandas as pd\n",
    "def pollutantmean(directory, pollutant,x,y): #python range and index start from 0\n",
    "    i = range (x,y)   \n",
    "    if (x == y):\n",
    "        concatenated_df = pd.read_csv(\"%03d.csv\" % x) \n",
    "    else:\n",
    "        listFiles = [\"%03d.csv\" % x for x in i]  \n",
    "        df_from_each_file = (pd.read_csv(f) for f in listFiles)\n",
    "        concatenated_df = pd.concat(df_from_each_file, ignore_index=True)  \n",
    "    return concatenated_df[pollutant].mean(skipna=True)\n",
    "print(pollutantmean(\"specdata\", \"sulfate\",1,11))\n",
    "print(pollutantmean(\"specdata\", \"nitrate\",70,73))\n",
    "print(pollutantmean(\"specdata\", \"nitrate\",23,23))"
   ]
  },
  {
   "cell_type": "code",
   "execution_count": 191,
   "metadata": {},
   "outputs": [
    {
     "name": "stdout",
     "output_type": "stream",
     "text": [
      "   i  nobs\n",
      "0  3   243\n",
      "     i nobs\n",
      "0  025  463\n",
      "1  026  586\n",
      "2  027  338\n",
      "3  028  475\n",
      "4  029  711\n",
      "5  030  932\n"
     ]
    }
   ],
   "source": [
    "import os\n",
    "import pandas as pd\n",
    "def complete(directory, x,y):  \n",
    "    list_= []\n",
    "    i = range (x,y)   \n",
    "    if (x == y):\n",
    "        concatenated_df = pd.read_csv(\"%03d.csv\" % x) \n",
    "        list_=[x,concatenated_df.notnull().sum().min()]\n",
    "        df = pd.DataFrame(list_).T\n",
    "        df.columns =['i','nobs']\n",
    "    else:\n",
    "        listFiles = [\"%03d.csv\" % x for x in i]    \n",
    "        f = [f[:3] for f in listFiles]\n",
    "        n = [pd.read_csv(f).notnull().sum().min()for f in listFiles]\n",
    "        list_ =[f,n]\n",
    "        df = pd.DataFrame(list_).T\n",
    "        df.columns =['i','nobs']\n",
    "    return df\n",
    "\n",
    "print(complete(\"specdata\",3,3))\n",
    "print(complete(\"specdata\", 25,31))"
   ]
  },
  {
   "cell_type": "code",
   "execution_count": 198,
   "metadata": {},
   "outputs": [
    {
     "data": {
      "text/html": [
       "<div>\n",
       "<style scoped>\n",
       "    .dataframe tbody tr th:only-of-type {\n",
       "        vertical-align: middle;\n",
       "    }\n",
       "\n",
       "    .dataframe tbody tr th {\n",
       "        vertical-align: top;\n",
       "    }\n",
       "\n",
       "    .dataframe thead th {\n",
       "        text-align: right;\n",
       "    }\n",
       "</style>\n",
       "<table border=\"1\" class=\"dataframe\">\n",
       "  <thead>\n",
       "    <tr style=\"text-align: right;\">\n",
       "      <th></th>\n",
       "      <th>sulfate</th>\n",
       "      <th>nitrate</th>\n",
       "    </tr>\n",
       "  </thead>\n",
       "  <tbody>\n",
       "    <tr>\n",
       "      <th>sulfate</th>\n",
       "      <td>1.000000</td>\n",
       "      <td>-0.222553</td>\n",
       "    </tr>\n",
       "    <tr>\n",
       "      <th>nitrate</th>\n",
       "      <td>-0.222553</td>\n",
       "      <td>1.000000</td>\n",
       "    </tr>\n",
       "  </tbody>\n",
       "</table>\n",
       "</div>"
      ],
      "text/plain": [
       "          sulfate   nitrate\n",
       "sulfate  1.000000 -0.222553\n",
       "nitrate -0.222553  1.000000"
      ]
     },
     "execution_count": 198,
     "metadata": {},
     "output_type": "execute_result"
    }
   ],
   "source": [
    "import os\n",
    "# os.path.abspath(__file__)\n",
    "# os.path.dirname(__file__)\n",
    "cwd = os.getcwd()\n",
    "file_path = os.path.join(cwd, \"001.csv\") \n",
    "df = pd.read_csv(file_path)\n",
    "# pd.read_csv(file_path).head()\n",
    "# df.notnull().sum().min()\n",
    "cor = df[['sulfate','nitrate']].corr() \n",
    "cor\n",
    "# df.columns"
   ]
  }
 ],
 "metadata": {
  "kernelspec": {
   "display_name": "Python 3",
   "language": "python",
   "name": "python3"
  },
  "language_info": {
   "codemirror_mode": {
    "name": "ipython",
    "version": 3
   },
   "file_extension": ".py",
   "mimetype": "text/x-python",
   "name": "python",
   "nbconvert_exporter": "python",
   "pygments_lexer": "ipython3",
   "version": "3.6.5"
  }
 },
 "nbformat": 4,
 "nbformat_minor": 2
}
